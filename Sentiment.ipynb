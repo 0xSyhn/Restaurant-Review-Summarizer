{
 "cells": [
  {
   "cell_type": "code",
   "execution_count": 2,
   "id": "80cda8dd-0a25-4f7f-af2c-2f7f638f1d53",
   "metadata": {},
   "outputs": [
    {
     "name": "stdout",
     "output_type": "stream",
     "text": [
      "Defaulting to user installation because normal site-packages is not writeable\n",
      "Looking in indexes: https://download.pytorch.org/whl/cu118\n",
      "Requirement already satisfied: torch in c:\\users\\void001\\appdata\\local\\packages\\pythonsoftwarefoundation.python.3.12_qbz5n2kfra8p0\\localcache\\local-packages\\python312\\site-packages (2.2.1+cu121)\n",
      "Requirement already satisfied: torchvision in c:\\users\\void001\\appdata\\local\\packages\\pythonsoftwarefoundation.python.3.12_qbz5n2kfra8p0\\localcache\\local-packages\\python312\\site-packages (0.17.1+cu121)\n"
     ]
    },
    {
     "name": "stderr",
     "output_type": "stream",
     "text": [
      "ERROR: Could not find a version that satisfies the requirement toArchaudio (from versions: none)\n",
      "ERROR: No matching distribution found for toArchaudio\n"
     ]
    }
   ],
   "source": [
    "!pip3 install torch torchvision toArchaudio --index-url https://download.pytorch.org/whl/cu118"
   ]
  },
  {
   "cell_type": "code",
   "execution_count": 3,
   "id": "6e182cc2-0744-4906-a6c6-66c63bba6e1f",
   "metadata": {},
   "outputs": [
    {
     "name": "stdout",
     "output_type": "stream",
     "text": [
      "Defaulting to user installation because normal site-packages is not writeable\n",
      "Looking in indexes: https://download.pytorch.org/whl/cu121\n",
      "Requirement already satisfied: torch in c:\\users\\void001\\appdata\\local\\packages\\pythonsoftwarefoundation.python.3.12_qbz5n2kfra8p0\\localcache\\local-packages\\python312\\site-packages (2.2.1+cu121)\n",
      "Requirement already satisfied: torchvision in c:\\users\\void001\\appdata\\local\\packages\\pythonsoftwarefoundation.python.3.12_qbz5n2kfra8p0\\localcache\\local-packages\\python312\\site-packages (0.17.1+cu121)\n",
      "Requirement already satisfied: torchaudio in c:\\users\\void001\\appdata\\local\\packages\\pythonsoftwarefoundation.python.3.12_qbz5n2kfra8p0\\localcache\\local-packages\\python312\\site-packages (2.2.1+cu121)\n",
      "Requirement already satisfied: filelock in c:\\users\\void001\\appdata\\local\\packages\\pythonsoftwarefoundation.python.3.12_qbz5n2kfra8p0\\localcache\\local-packages\\python312\\site-packages (from torch) (3.9.0)\n",
      "Requirement already satisfied: typing-extensions>=4.8.0 in c:\\users\\void001\\appdata\\local\\packages\\pythonsoftwarefoundation.python.3.12_qbz5n2kfra8p0\\localcache\\local-packages\\python312\\site-packages (from torch) (4.8.0)\n",
      "Requirement already satisfied: sympy in c:\\users\\void001\\appdata\\local\\packages\\pythonsoftwarefoundation.python.3.12_qbz5n2kfra8p0\\localcache\\local-packages\\python312\\site-packages (from torch) (1.12)\n",
      "Requirement already satisfied: networkx in c:\\users\\void001\\appdata\\local\\packages\\pythonsoftwarefoundation.python.3.12_qbz5n2kfra8p0\\localcache\\local-packages\\python312\\site-packages (from torch) (3.2.1)\n",
      "Requirement already satisfied: jinja2 in c:\\users\\void001\\appdata\\local\\packages\\pythonsoftwarefoundation.python.3.12_qbz5n2kfra8p0\\localcache\\local-packages\\python312\\site-packages (from torch) (3.1.2)\n",
      "Requirement already satisfied: fsspec in c:\\users\\void001\\appdata\\local\\packages\\pythonsoftwarefoundation.python.3.12_qbz5n2kfra8p0\\localcache\\local-packages\\python312\\site-packages (from torch) (2023.4.0)\n",
      "Requirement already satisfied: numpy in c:\\users\\void001\\appdata\\local\\packages\\pythonsoftwarefoundation.python.3.12_qbz5n2kfra8p0\\localcache\\local-packages\\python312\\site-packages (from torchvision) (1.26.3)\n",
      "Requirement already satisfied: pillow!=8.3.*,>=5.3.0 in c:\\users\\void001\\appdata\\local\\packages\\pythonsoftwarefoundation.python.3.12_qbz5n2kfra8p0\\localcache\\local-packages\\python312\\site-packages (from torchvision) (10.2.0)\n",
      "Requirement already satisfied: MarkupSafe>=2.0 in c:\\users\\void001\\appdata\\local\\packages\\pythonsoftwarefoundation.python.3.12_qbz5n2kfra8p0\\localcache\\local-packages\\python312\\site-packages (from jinja2->torch) (2.1.3)\n",
      "Requirement already satisfied: mpmath>=0.19 in c:\\users\\void001\\appdata\\local\\packages\\pythonsoftwarefoundation.python.3.12_qbz5n2kfra8p0\\localcache\\local-packages\\python312\\site-packages (from sympy->torch) (1.3.0)\n"
     ]
    }
   ],
   "source": [
    "!pip3 install torch torchvision torchaudio --index-url https://download.pytorch.org/whl/cu121"
   ]
  },
  {
   "cell_type": "code",
   "execution_count": 4,
   "id": "397fb2ad-799b-49ac-958c-d33f7dca11a2",
   "metadata": {},
   "outputs": [
    {
     "name": "stdout",
     "output_type": "stream",
     "text": [
      "Defaulting to user installation because normal site-packages is not writeable\n",
      "Looking in links: https://download.pytorch.org/whl/torch_stable.html\n"
     ]
    },
    {
     "name": "stderr",
     "output_type": "stream",
     "text": [
      "ERROR: Could not find a version that satisfies the requirement torch==1.8.1+cu111 (from versions: 2.2.0, 2.2.0+cpu, 2.2.0+cu118, 2.2.0+cu121, 2.2.1, 2.2.1+cpu, 2.2.1+cu118, 2.2.1+cu121, 2.2.2, 2.2.2+cpu, 2.2.2+cu118, 2.2.2+cu121)\n",
      "ERROR: No matching distribution found for torch==1.8.1+cu111\n"
     ]
    }
   ],
   "source": [
    "!pip install torch==1.8.1+cu111 torchvision==0.9.1+cu111 torchaudio===0.8.1 -f https://download.pytorch.org/whl/torch_stable.html"
   ]
  },
  {
   "cell_type": "code",
   "execution_count": 5,
   "id": "16a055ad-7904-451f-8eda-f56dee1a4604",
   "metadata": {},
   "outputs": [
    {
     "name": "stdout",
     "output_type": "stream",
     "text": [
      "Defaulting to user installation because normal site-packages is not writeable"
     ]
    },
    {
     "name": "stderr",
     "output_type": "stream",
     "text": [
      "ERROR: Could not install packages due to an OSError: [Errno 2] No such file or directory: 'C:\\\\Users\\\\VOID001\\\\AppData\\\\Local\\\\Packages\\\\PythonSoftwareFoundation.Python.3.12_qbz5n2kfra8p0\\\\LocalCache\\\\local-packages\\\\Python312\\\\site-packages\\\\transformers\\\\models\\\\deprecated\\\\trajectory_transformer\\\\convert_trajectory_transformer_original_pytorch_checkpoint_to_pytorch.py'\n",
      "HINT: This error might have occurred since this system does not have Windows Long Path support enabled. You can find information on how to enable this at https://pip.pypa.io/warnings/enable-long-paths\n",
      "\n"
     ]
    },
    {
     "name": "stdout",
     "output_type": "stream",
     "text": [
      "\n",
      "Collecting transformers\n",
      "  Downloading transformers-4.39.1-py3-none-any.whl.metadata (134 kB)\n",
      "     ---------------------------------------- 0.0/134.8 kB ? eta -:--:--\n",
      "     --- ------------------------------------ 10.2/134.8 kB ? eta -:--:--\n",
      "     -------- ---------------------------- 30.7/134.8 kB 435.7 kB/s eta 0:00:01\n",
      "     ----------- ------------------------- 41.0/134.8 kB 281.8 kB/s eta 0:00:01\n",
      "     ---------------- -------------------- 61.4/134.8 kB 328.2 kB/s eta 0:00:01\n",
      "     ---------------------- -------------- 81.9/134.8 kB 353.1 kB/s eta 0:00:01\n",
      "     ------------------------------ ----- 112.6/134.8 kB 409.6 kB/s eta 0:00:01\n",
      "     ------------------------------------ 134.8/134.8 kB 419.5 kB/s eta 0:00:00\n",
      "Requirement already satisfied: requests in c:\\users\\void001\\appdata\\local\\packages\\pythonsoftwarefoundation.python.3.12_qbz5n2kfra8p0\\localcache\\local-packages\\python312\\site-packages (2.31.0)\n",
      "Requirement already satisfied: beautifulsoup4 in c:\\users\\void001\\appdata\\local\\packages\\pythonsoftwarefoundation.python.3.12_qbz5n2kfra8p0\\localcache\\local-packages\\python312\\site-packages (4.12.3)\n",
      "Requirement already satisfied: pandas in c:\\users\\void001\\appdata\\local\\packages\\pythonsoftwarefoundation.python.3.12_qbz5n2kfra8p0\\localcache\\local-packages\\python312\\site-packages (2.2.1)\n",
      "Requirement already satisfied: numpy in c:\\users\\void001\\appdata\\local\\packages\\pythonsoftwarefoundation.python.3.12_qbz5n2kfra8p0\\localcache\\local-packages\\python312\\site-packages (1.26.3)\n",
      "Requirement already satisfied: filelock in c:\\users\\void001\\appdata\\local\\packages\\pythonsoftwarefoundation.python.3.12_qbz5n2kfra8p0\\localcache\\local-packages\\python312\\site-packages (from transformers) (3.9.0)\n",
      "Collecting huggingface-hub<1.0,>=0.19.3 (from transformers)\n",
      "  Downloading huggingface_hub-0.22.1-py3-none-any.whl.metadata (12 kB)\n",
      "Requirement already satisfied: packaging>=20.0 in c:\\users\\void001\\appdata\\local\\packages\\pythonsoftwarefoundation.python.3.12_qbz5n2kfra8p0\\localcache\\local-packages\\python312\\site-packages (from transformers) (23.2)\n",
      "Requirement already satisfied: pyyaml>=5.1 in c:\\users\\void001\\appdata\\local\\packages\\pythonsoftwarefoundation.python.3.12_qbz5n2kfra8p0\\localcache\\local-packages\\python312\\site-packages (from transformers) (6.0.1)\n",
      "Collecting regex!=2019.12.17 (from transformers)\n",
      "  Downloading regex-2023.12.25-cp312-cp312-win_amd64.whl.metadata (41 kB)\n",
      "     ---------------------------------------- 0.0/42.0 kB ? eta -:--:--\n",
      "     --------- ------------------------------ 10.2/42.0 kB ? eta -:--:--\n",
      "     -------------------------------------- 42.0/42.0 kB 675.2 kB/s eta 0:00:00\n",
      "Collecting tokenizers<0.19,>=0.14 (from transformers)\n",
      "  Downloading tokenizers-0.15.2-cp312-none-win_amd64.whl.metadata (6.8 kB)\n",
      "Collecting safetensors>=0.4.1 (from transformers)\n",
      "  Downloading safetensors-0.4.2-cp312-none-win_amd64.whl.metadata (3.9 kB)\n",
      "Collecting tqdm>=4.27 (from transformers)\n",
      "  Downloading tqdm-4.66.2-py3-none-any.whl.metadata (57 kB)\n",
      "     ---------------------------------------- 0.0/57.6 kB ? eta -:--:--\n",
      "     ------- -------------------------------- 10.2/57.6 kB ? eta -:--:--\n",
      "     -------------------------------------- 57.6/57.6 kB 607.0 kB/s eta 0:00:00\n",
      "Requirement already satisfied: charset-normalizer<4,>=2 in c:\\users\\void001\\appdata\\local\\packages\\pythonsoftwarefoundation.python.3.12_qbz5n2kfra8p0\\localcache\\local-packages\\python312\\site-packages (from requests) (3.3.2)\n",
      "Requirement already satisfied: idna<4,>=2.5 in c:\\users\\void001\\appdata\\local\\packages\\pythonsoftwarefoundation.python.3.12_qbz5n2kfra8p0\\localcache\\local-packages\\python312\\site-packages (from requests) (3.6)\n",
      "Requirement already satisfied: urllib3<3,>=1.21.1 in c:\\users\\void001\\appdata\\local\\packages\\pythonsoftwarefoundation.python.3.12_qbz5n2kfra8p0\\localcache\\local-packages\\python312\\site-packages (from requests) (2.2.1)\n",
      "Requirement already satisfied: certifi>=2017.4.17 in c:\\users\\void001\\appdata\\local\\packages\\pythonsoftwarefoundation.python.3.12_qbz5n2kfra8p0\\localcache\\local-packages\\python312\\site-packages (from requests) (2024.2.2)\n",
      "Requirement already satisfied: soupsieve>1.2 in c:\\users\\void001\\appdata\\local\\packages\\pythonsoftwarefoundation.python.3.12_qbz5n2kfra8p0\\localcache\\local-packages\\python312\\site-packages (from beautifulsoup4) (2.5)\n",
      "Requirement already satisfied: python-dateutil>=2.8.2 in c:\\users\\void001\\appdata\\local\\packages\\pythonsoftwarefoundation.python.3.12_qbz5n2kfra8p0\\localcache\\local-packages\\python312\\site-packages (from pandas) (2.8.2)\n",
      "Requirement already satisfied: pytz>=2020.1 in c:\\users\\void001\\appdata\\local\\packages\\pythonsoftwarefoundation.python.3.12_qbz5n2kfra8p0\\localcache\\local-packages\\python312\\site-packages (from pandas) (2024.1)\n",
      "Requirement already satisfied: tzdata>=2022.7 in c:\\users\\void001\\appdata\\local\\packages\\pythonsoftwarefoundation.python.3.12_qbz5n2kfra8p0\\localcache\\local-packages\\python312\\site-packages (from pandas) (2024.1)\n",
      "Collecting fsspec>=2023.5.0 (from huggingface-hub<1.0,>=0.19.3->transformers)\n",
      "  Downloading fsspec-2024.3.1-py3-none-any.whl.metadata (6.8 kB)\n",
      "Requirement already satisfied: typing-extensions>=3.7.4.3 in c:\\users\\void001\\appdata\\local\\packages\\pythonsoftwarefoundation.python.3.12_qbz5n2kfra8p0\\localcache\\local-packages\\python312\\site-packages (from huggingface-hub<1.0,>=0.19.3->transformers) (4.8.0)\n",
      "Requirement already satisfied: six>=1.5 in c:\\users\\void001\\appdata\\local\\packages\\pythonsoftwarefoundation.python.3.12_qbz5n2kfra8p0\\localcache\\local-packages\\python312\\site-packages (from python-dateutil>=2.8.2->pandas) (1.16.0)\n",
      "Requirement already satisfied: colorama in c:\\users\\void001\\appdata\\local\\packages\\pythonsoftwarefoundation.python.3.12_qbz5n2kfra8p0\\localcache\\local-packages\\python312\\site-packages (from tqdm>=4.27->transformers) (0.4.6)\n",
      "Downloading transformers-4.39.1-py3-none-any.whl (8.8 MB)\n",
      "   ---------------------------------------- 0.0/8.8 MB ? eta -:--:--\n",
      "   ---------------------------------------- 0.0/8.8 MB 640.0 kB/s eta 0:00:14\n",
      "   ---------------------------------------- 0.1/8.8 MB 656.4 kB/s eta 0:00:14\n",
      "   ---------------------------------------- 0.1/8.8 MB 655.4 kB/s eta 0:00:14\n",
      "    --------------------------------------- 0.1/8.8 MB 717.5 kB/s eta 0:00:13\n",
      "    --------------------------------------- 0.2/8.8 MB 701.4 kB/s eta 0:00:13\n",
      "    --------------------------------------- 0.2/8.8 MB 692.9 kB/s eta 0:00:13\n",
      "    --------------------------------------- 0.2/8.8 MB 689.9 kB/s eta 0:00:13\n",
      "   - -------------------------------------- 0.3/8.8 MB 682.7 kB/s eta 0:00:13\n",
      "   - -------------------------------------- 0.3/8.8 MB 710.0 kB/s eta 0:00:13\n",
      "   - -------------------------------------- 0.3/8.8 MB 678.0 kB/s eta 0:00:13\n",
      "   - -------------------------------------- 0.3/8.8 MB 655.4 kB/s eta 0:00:13\n",
      "   - -------------------------------------- 0.4/8.8 MB 654.4 kB/s eta 0:00:13\n",
      "   - -------------------------------------- 0.4/8.8 MB 655.5 kB/s eta 0:00:13\n",
      "   - -------------------------------------- 0.4/8.8 MB 639.0 kB/s eta 0:00:14\n",
      "   - -------------------------------------- 0.4/8.8 MB 623.4 kB/s eta 0:00:14\n",
      "   -- ------------------------------------- 0.5/8.8 MB 626.9 kB/s eta 0:00:14\n",
      "   -- ------------------------------------- 0.5/8.8 MB 615.4 kB/s eta 0:00:14\n",
      "   -- ------------------------------------- 0.5/8.8 MB 604.6 kB/s eta 0:00:14\n",
      "   -- ------------------------------------- 0.5/8.8 MB 585.1 kB/s eta 0:00:15\n",
      "   -- ------------------------------------- 0.5/8.8 MB 575.8 kB/s eta 0:00:15\n",
      "   -- ------------------------------------- 0.6/8.8 MB 578.6 kB/s eta 0:00:15\n",
      "   -- ------------------------------------- 0.6/8.8 MB 563.2 kB/s eta 0:00:15\n",
      "   -- ------------------------------------- 0.6/8.8 MB 558.7 kB/s eta 0:00:15\n",
      "   -- ------------------------------------- 0.6/8.8 MB 552.2 kB/s eta 0:00:15\n",
      "   -- ------------------------------------- 0.6/8.8 MB 555.2 kB/s eta 0:00:15\n",
      "   --- ------------------------------------ 0.7/8.8 MB 551.6 kB/s eta 0:00:15\n",
      "   --- ------------------------------------ 0.7/8.8 MB 547.2 kB/s eta 0:00:15\n",
      "   --- ------------------------------------ 0.7/8.8 MB 544.8 kB/s eta 0:00:15\n",
      "   --- ------------------------------------ 0.7/8.8 MB 548.6 kB/s eta 0:00:15\n",
      "   --- ------------------------------------ 0.8/8.8 MB 551.1 kB/s eta 0:00:15\n",
      "   --- ------------------------------------ 0.8/8.8 MB 551.1 kB/s eta 0:00:15\n",
      "   --- ------------------------------------ 0.8/8.8 MB 550.7 kB/s eta 0:00:15\n",
      "   --- ------------------------------------ 0.8/8.8 MB 547.1 kB/s eta 0:00:15\n",
      "   --- ------------------------------------ 0.8/8.8 MB 537.2 kB/s eta 0:00:15\n",
      "   --- ------------------------------------ 0.9/8.8 MB 539.6 kB/s eta 0:00:15\n",
      "   ---- ----------------------------------- 0.9/8.8 MB 530.4 kB/s eta 0:00:15\n",
      "   ---- ----------------------------------- 0.9/8.8 MB 535.1 kB/s eta 0:00:15\n",
      "   ---- ----------------------------------- 0.9/8.8 MB 531.2 kB/s eta 0:00:15\n",
      "   ---- ----------------------------------- 1.0/8.8 MB 529.9 kB/s eta 0:00:15\n",
      "   ---- ----------------------------------- 1.0/8.8 MB 527.5 kB/s eta 0:00:15\n",
      "   ---- ----------------------------------- 1.0/8.8 MB 526.2 kB/s eta 0:00:15\n",
      "   ---- ----------------------------------- 1.0/8.8 MB 528.4 kB/s eta 0:00:15\n",
      "   ---- ----------------------------------- 1.1/8.8 MB 527.4 kB/s eta 0:00:15\n",
      "   ---- ----------------------------------- 1.1/8.8 MB 528.3 kB/s eta 0:00:15\n",
      "   ----- ---------------------------------- 1.1/8.8 MB 532.2 kB/s eta 0:00:15\n",
      "   ----- ---------------------------------- 1.1/8.8 MB 530.9 kB/s eta 0:00:15\n",
      "   ----- ---------------------------------- 1.2/8.8 MB 531.7 kB/s eta 0:00:15\n",
      "   ----- ---------------------------------- 1.2/8.8 MB 535.3 kB/s eta 0:00:15\n",
      "   ----- ---------------------------------- 1.2/8.8 MB 537.8 kB/s eta 0:00:15\n",
      "   ----- ---------------------------------- 1.3/8.8 MB 536.6 kB/s eta 0:00:15\n",
      "   ----- ---------------------------------- 1.3/8.8 MB 538.9 kB/s eta 0:00:14\n",
      "   ------ --------------------------------- 1.3/8.8 MB 541.2 kB/s eta 0:00:14\n",
      "   ------ --------------------------------- 1.4/8.8 MB 546.9 kB/s eta 0:00:14\n",
      "   ------ --------------------------------- 1.4/8.8 MB 548.1 kB/s eta 0:00:14\n",
      "   ------ --------------------------------- 1.4/8.8 MB 538.7 kB/s eta 0:00:14\n",
      "   ------ --------------------------------- 1.4/8.8 MB 548.7 kB/s eta 0:00:14\n",
      "   ------ --------------------------------- 1.5/8.8 MB 546.7 kB/s eta 0:00:14\n",
      "   ------ --------------------------------- 1.5/8.8 MB 544.2 kB/s eta 0:00:14\n",
      "   ------ --------------------------------- 1.5/8.8 MB 542.9 kB/s eta 0:00:14\n",
      "   ------ --------------------------------- 1.5/8.8 MB 548.4 kB/s eta 0:00:14\n",
      "   ------- -------------------------------- 1.5/8.8 MB 543.1 kB/s eta 0:00:14\n",
      "   ------- -------------------------------- 1.6/8.8 MB 541.9 kB/s eta 0:00:14\n",
      "   ------- -------------------------------- 1.6/8.8 MB 539.7 kB/s eta 0:00:14\n",
      "   ------- -------------------------------- 1.6/8.8 MB 539.7 kB/s eta 0:00:14\n",
      "   ------- -------------------------------- 1.6/8.8 MB 539.3 kB/s eta 0:00:14\n",
      "   ------- -------------------------------- 1.6/8.8 MB 531.6 kB/s eta 0:00:14\n",
      "   ------- -------------------------------- 1.6/8.8 MB 531.6 kB/s eta 0:00:14\n",
      "   ------- -------------------------------- 1.7/8.8 MB 527.6 kB/s eta 0:00:14\n",
      "   ------- -------------------------------- 1.7/8.8 MB 520.4 kB/s eta 0:00:14\n",
      "   ------- -------------------------------- 1.7/8.8 MB 519.1 kB/s eta 0:00:14\n",
      "   ------- -------------------------------- 1.7/8.8 MB 515.6 kB/s eta 0:00:14\n",
      "   ------- -------------------------------- 1.7/8.8 MB 511.4 kB/s eta 0:00:14\n",
      "   ------- -------------------------------- 1.7/8.8 MB 510.3 kB/s eta 0:00:14\n",
      "   ------- -------------------------------- 1.8/8.8 MB 506.3 kB/s eta 0:00:14\n",
      "   -------- ------------------------------- 1.8/8.8 MB 507.7 kB/s eta 0:00:14\n",
      "   -------- ------------------------------- 1.8/8.8 MB 504.5 kB/s eta 0:00:14\n",
      "   -------- ------------------------------- 1.8/8.8 MB 502.9 kB/s eta 0:00:14\n",
      "   -------- ------------------------------- 1.8/8.8 MB 504.3 kB/s eta 0:00:14\n",
      "   -------- ------------------------------- 1.8/8.8 MB 500.6 kB/s eta 0:00:14\n",
      "   -------- ------------------------------- 1.9/8.8 MB 501.1 kB/s eta 0:00:14\n",
      "   -------- ------------------------------- 1.9/8.8 MB 499.7 kB/s eta 0:00:14\n",
      "   -------- ------------------------------- 1.9/8.8 MB 498.9 kB/s eta 0:00:14\n",
      "   -------- ------------------------------- 1.9/8.8 MB 497.6 kB/s eta 0:00:14\n",
      "   -------- ------------------------------- 2.0/8.8 MB 498.0 kB/s eta 0:00:14\n",
      "   -------- ------------------------------- 2.0/8.8 MB 494.8 kB/s eta 0:00:14\n",
      "   --------- ------------------------------ 2.0/8.8 MB 494.1 kB/s eta 0:00:14\n",
      "   --------- ------------------------------ 2.0/8.8 MB 490.9 kB/s eta 0:00:14\n",
      "   --------- ------------------------------ 2.0/8.8 MB 490.2 kB/s eta 0:00:14\n",
      "   --------- ------------------------------ 2.0/8.8 MB 489.6 kB/s eta 0:00:14\n",
      "   --------- ------------------------------ 2.0/8.8 MB 486.6 kB/s eta 0:00:14\n",
      "   --------- ------------------------------ 2.1/8.8 MB 486.0 kB/s eta 0:00:14\n",
      "   --------- ------------------------------ 2.1/8.8 MB 484.9 kB/s eta 0:00:14\n",
      "   --------- ------------------------------ 2.1/8.8 MB 486.1 kB/s eta 0:00:14\n",
      "   --------- ------------------------------ 2.1/8.8 MB 485.6 kB/s eta 0:00:14\n",
      "   --------- ------------------------------ 2.2/8.8 MB 484.0 kB/s eta 0:00:14\n",
      "   --------- ------------------------------ 2.2/8.8 MB 482.9 kB/s eta 0:00:14\n",
      "   --------- ------------------------------ 2.2/8.8 MB 484.0 kB/s eta 0:00:14\n",
      "   ---------- ----------------------------- 2.2/8.8 MB 482.5 kB/s eta 0:00:14\n",
      "   ---------- ----------------------------- 2.2/8.8 MB 483.7 kB/s eta 0:00:14\n",
      "   ---------- ----------------------------- 2.3/8.8 MB 483.7 kB/s eta 0:00:14\n",
      "   ---------- ----------------------------- 2.3/8.8 MB 483.7 kB/s eta 0:00:14\n",
      "   ---------- ----------------------------- 2.3/8.8 MB 482.3 kB/s eta 0:00:14\n",
      "   ---------- ----------------------------- 2.3/8.8 MB 481.8 kB/s eta 0:00:14\n",
      "   ---------- ----------------------------- 2.3/8.8 MB 480.8 kB/s eta 0:00:14\n",
      "   ---------- ----------------------------- 2.3/8.8 MB 480.4 kB/s eta 0:00:14\n",
      "   ---------- ----------------------------- 2.4/8.8 MB 480.0 kB/s eta 0:00:14\n",
      "   ---------- ----------------------------- 2.4/8.8 MB 479.0 kB/s eta 0:00:14\n",
      "   ---------- ----------------------------- 2.4/8.8 MB 476.2 kB/s eta 0:00:14\n",
      "   ----------- ---------------------------- 2.4/8.8 MB 477.3 kB/s eta 0:00:14\n",
      "   ----------- ---------------------------- 2.4/8.8 MB 476.9 kB/s eta 0:00:14\n",
      "   ----------- ---------------------------- 2.5/8.8 MB 477.2 kB/s eta 0:00:14\n",
      "   ----------- ---------------------------- 2.5/8.8 MB 477.2 kB/s eta 0:00:14\n",
      "   ----------- ---------------------------- 2.5/8.8 MB 477.2 kB/s eta 0:00:14\n",
      "   ----------- ---------------------------- 2.5/8.8 MB 477.2 kB/s eta 0:00:14\n",
      "   ----------- ---------------------------- 2.5/8.8 MB 477.2 kB/s eta 0:00:14\n",
      "   ----------- ---------------------------- 2.5/8.8 MB 477.2 kB/s eta 0:00:14\n",
      "   ----------- ---------------------------- 2.5/8.8 MB 477.2 kB/s eta 0:00:14\n",
      "   ----------- ---------------------------- 2.5/8.8 MB 477.2 kB/s eta 0:00:14\n",
      "   ----------- ---------------------------- 2.5/8.8 MB 477.2 kB/s eta 0:00:14\n",
      "   ----------- ---------------------------- 2.5/8.8 MB 446.7 kB/s eta 0:00:15\n",
      "   ----------- ---------------------------- 2.5/8.8 MB 442.9 kB/s eta 0:00:15\n",
      "   ----------- ---------------------------- 2.5/8.8 MB 446.6 kB/s eta 0:00:15\n",
      "   ----------- ---------------------------- 2.5/8.8 MB 444.7 kB/s eta 0:00:15\n",
      "   ----------- ---------------------------- 2.6/8.8 MB 444.0 kB/s eta 0:00:15\n",
      "   ----------- ---------------------------- 2.6/8.8 MB 442.2 kB/s eta 0:00:15\n",
      "   ----------- ---------------------------- 2.6/8.8 MB 442.1 kB/s eta 0:00:15\n",
      "   ----------- ---------------------------- 2.6/8.8 MB 440.3 kB/s eta 0:00:15\n",
      "   ----------- ---------------------------- 2.6/8.8 MB 440.4 kB/s eta 0:00:15\n",
      "   ------------ --------------------------- 2.7/8.8 MB 441.4 kB/s eta 0:00:14\n",
      "   ------------ --------------------------- 2.7/8.8 MB 439.7 kB/s eta 0:00:14\n",
      "   ------------ --------------------------- 2.7/8.8 MB 439.1 kB/s eta 0:00:14\n",
      "   ------------ --------------------------- 2.7/8.8 MB 440.2 kB/s eta 0:00:14\n",
      "   ------------ --------------------------- 2.7/8.8 MB 440.2 kB/s eta 0:00:14\n",
      "   ------------ --------------------------- 2.7/8.8 MB 439.6 kB/s eta 0:00:14\n",
      "   ------------ --------------------------- 2.8/8.8 MB 440.1 kB/s eta 0:00:14\n",
      "   ------------ --------------------------- 2.8/8.8 MB 440.1 kB/s eta 0:00:14\n",
      "   ------------ --------------------------- 2.8/8.8 MB 440.1 kB/s eta 0:00:14\n",
      "   ------------ --------------------------- 2.8/8.8 MB 440.1 kB/s eta 0:00:14\n",
      "   ------------ --------------------------- 2.8/8.8 MB 440.1 kB/s eta 0:00:14\n",
      "   ------------ --------------------------- 2.8/8.8 MB 440.1 kB/s eta 0:00:14\n",
      "   ------------ --------------------------- 2.8/8.8 MB 440.1 kB/s eta 0:00:14\n",
      "   ------------ --------------------------- 2.8/8.8 MB 440.1 kB/s eta 0:00:14\n",
      "   ------------ --------------------------- 2.8/8.8 MB 422.1 kB/s eta 0:00:15\n",
      "   ------------ --------------------------- 2.8/8.8 MB 422.1 kB/s eta 0:00:15\n",
      "   ------------ --------------------------- 2.8/8.8 MB 421.2 kB/s eta 0:00:15\n",
      "   ------------ --------------------------- 2.9/8.8 MB 420.7 kB/s eta 0:00:15\n",
      "   ------------- -------------------------- 2.9/8.8 MB 420.8 kB/s eta 0:00:15\n",
      "   ------------- -------------------------- 2.9/8.8 MB 420.5 kB/s eta 0:00:15\n",
      "   ------------- -------------------------- 2.9/8.8 MB 420.6 kB/s eta 0:00:14\n",
      "   ------------- -------------------------- 2.9/8.8 MB 420.2 kB/s eta 0:00:14\n",
      "   ------------- -------------------------- 3.0/8.8 MB 420.3 kB/s eta 0:00:14\n",
      "   ------------- -------------------------- 3.0/8.8 MB 420.1 kB/s eta 0:00:14\n",
      "   ------------- -------------------------- 3.0/8.8 MB 422.0 kB/s eta 0:00:14\n",
      "   ------------- -------------------------- 3.0/8.8 MB 420.6 kB/s eta 0:00:14\n",
      "   ------------- -------------------------- 3.1/8.8 MB 422.7 kB/s eta 0:00:14\n",
      "   ------------- -------------------------- 3.1/8.8 MB 422.3 kB/s eta 0:00:14\n",
      "   -------------- ------------------------- 3.1/8.8 MB 422.9 kB/s eta 0:00:14\n",
      "   -------------- ------------------------- 3.1/8.8 MB 422.9 kB/s eta 0:00:14\n",
      "   -------------- ------------------------- 3.1/8.8 MB 423.0 kB/s eta 0:00:14\n",
      "   -------------- ------------------------- 3.2/8.8 MB 422.7 kB/s eta 0:00:14\n",
      "   -------------- ------------------------- 3.2/8.8 MB 422.7 kB/s eta 0:00:14\n",
      "   -------------- ------------------------- 3.2/8.8 MB 420.6 kB/s eta 0:00:14\n",
      "   -------------- ------------------------- 3.2/8.8 MB 420.6 kB/s eta 0:00:14\n",
      "   -------------- ------------------------- 3.2/8.8 MB 419.8 kB/s eta 0:00:14\n",
      "   -------------- ------------------------- 3.2/8.8 MB 419.9 kB/s eta 0:00:14\n",
      "   -------------- ------------------------- 3.2/8.8 MB 417.9 kB/s eta 0:00:14\n",
      "   -------------- ------------------------- 3.3/8.8 MB 417.1 kB/s eta 0:00:14\n",
      "   -------------- ------------------------- 3.3/8.8 MB 416.0 kB/s eta 0:00:14\n",
      "   -------------- ------------------------- 3.3/8.8 MB 416.1 kB/s eta 0:00:14\n",
      "   --------------- ------------------------ 3.3/8.8 MB 417.0 kB/s eta 0:00:14\n",
      "   --------------- ------------------------ 3.3/8.8 MB 415.9 kB/s eta 0:00:14\n",
      "   --------------- ------------------------ 3.3/8.8 MB 416.0 kB/s eta 0:00:14\n",
      "   --------------- ------------------------ 3.3/8.8 MB 414.8 kB/s eta 0:00:14\n",
      "   --------------- ------------------------ 3.4/8.8 MB 415.8 kB/s eta 0:00:14\n",
      "   --------------- ------------------------ 3.4/8.8 MB 415.5 kB/s eta 0:00:14\n",
      "   --------------- ------------------------ 3.4/8.8 MB 415.7 kB/s eta 0:00:13\n",
      "   --------------- ------------------------ 3.4/8.8 MB 414.6 kB/s eta 0:00:13\n",
      "   --------------- ------------------------ 3.5/8.8 MB 415.4 kB/s eta 0:00:13\n",
      "   --------------- ------------------------ 3.5/8.8 MB 416.0 kB/s eta 0:00:13\n",
      "   --------------- ------------------------ 3.5/8.8 MB 416.0 kB/s eta 0:00:13\n",
      "   --------------- ------------------------ 3.5/8.8 MB 416.0 kB/s eta 0:00:13\n",
      "   ---------------- ----------------------- 3.5/8.8 MB 415.9 kB/s eta 0:00:13\n",
      "   ---------------- ----------------------- 3.5/8.8 MB 415.9 kB/s eta 0:00:13\n",
      "   ---------------- ----------------------- 3.5/8.8 MB 415.9 kB/s eta 0:00:13\n",
      "   ---------------- ----------------------- 3.5/8.8 MB 415.9 kB/s eta 0:00:13\n",
      "   ---------------- ----------------------- 3.5/8.8 MB 415.9 kB/s eta 0:00:13\n",
      "   ---------------- ----------------------- 3.5/8.8 MB 415.9 kB/s eta 0:00:13\n",
      "   ---------------- ----------------------- 3.5/8.8 MB 415.9 kB/s eta 0:00:13\n",
      "   ---------------- ----------------------- 3.5/8.8 MB 415.9 kB/s eta 0:00:13\n",
      "   ---------------- ----------------------- 3.6/8.8 MB 401.0 kB/s eta 0:00:14\n",
      "   ---------------- ----------------------- 3.6/8.8 MB 401.0 kB/s eta 0:00:14\n",
      "   ---------------- ----------------------- 3.6/8.8 MB 399.8 kB/s eta 0:00:14\n",
      "   ---------------- ----------------------- 3.6/8.8 MB 398.2 kB/s eta 0:00:14\n",
      "   ---------------- ----------------------- 3.6/8.8 MB 398.2 kB/s eta 0:00:14\n",
      "   ---------------- ----------------------- 3.6/8.8 MB 397.1 kB/s eta 0:00:14\n",
      "   ---------------- ----------------------- 3.6/8.8 MB 397.3 kB/s eta 0:00:14\n",
      "   ---------------- ----------------------- 3.6/8.8 MB 395.6 kB/s eta 0:00:14\n",
      "   ---------------- ----------------------- 3.6/8.8 MB 395.6 kB/s eta 0:00:14\n",
      "   ---------------- ----------------------- 3.6/8.8 MB 395.6 kB/s eta 0:00:14\n",
      "   ---------------- ----------------------- 3.7/8.8 MB 393.6 kB/s eta 0:00:14\n",
      "   ---------------- ----------------------- 3.7/8.8 MB 392.1 kB/s eta 0:00:14\n",
      "   ---------------- ----------------------- 3.7/8.8 MB 393.2 kB/s eta 0:00:13\n",
      "   ---------------- ----------------------- 3.7/8.8 MB 392.8 kB/s eta 0:00:13\n",
      "   ---------------- ----------------------- 3.7/8.8 MB 390.6 kB/s eta 0:00:13\n",
      "   ---------------- ----------------------- 3.7/8.8 MB 390.6 kB/s eta 0:00:13\n",
      "   ----------------- ---------------------- 3.7/8.8 MB 390.8 kB/s eta 0:00:13\n",
      "   ----------------- ---------------------- 3.8/8.8 MB 390.0 kB/s eta 0:00:13\n",
      "   ----------------- ---------------------- 3.8/8.8 MB 389.6 kB/s eta 0:00:13\n",
      "   ----------------- ---------------------- 3.8/8.8 MB 389.8 kB/s eta 0:00:13\n",
      "   ----------------- ---------------------- 3.8/8.8 MB 389.0 kB/s eta 0:00:13\n",
      "   ----------------- ---------------------- 3.8/8.8 MB 389.2 kB/s eta 0:00:13\n",
      "   ----------------- ---------------------- 3.8/8.8 MB 388.4 kB/s eta 0:00:13\n",
      "   ----------------- ---------------------- 3.9/8.8 MB 388.6 kB/s eta 0:00:13\n",
      "   ----------------- ---------------------- 3.9/8.8 MB 388.9 kB/s eta 0:00:13\n",
      "   ----------------- ---------------------- 3.9/8.8 MB 388.9 kB/s eta 0:00:13\n",
      "   ----------------- ---------------------- 3.9/8.8 MB 388.1 kB/s eta 0:00:13\n",
      "   ----------------- ---------------------- 3.9/8.8 MB 388.9 kB/s eta 0:00:13\n",
      "   ------------------ --------------------- 4.0/8.8 MB 389.8 kB/s eta 0:00:13\n",
      "   ------------------ --------------------- 4.0/8.8 MB 390.4 kB/s eta 0:00:13\n",
      "   ------------------ --------------------- 4.0/8.8 MB 389.6 kB/s eta 0:00:13\n",
      "   ------------------ --------------------- 4.0/8.8 MB 391.2 kB/s eta 0:00:13\n",
      "   ------------------ --------------------- 4.1/8.8 MB 391.0 kB/s eta 0:00:13\n",
      "   ------------------ --------------------- 4.1/8.8 MB 391.6 kB/s eta 0:00:13\n",
      "   ------------------ --------------------- 4.1/8.8 MB 392.4 kB/s eta 0:00:12\n",
      "   ------------------ --------------------- 4.1/8.8 MB 393.0 kB/s eta 0:00:12\n",
      "   ------------------ --------------------- 4.2/8.8 MB 393.8 kB/s eta 0:00:12\n",
      "   ------------------- -------------------- 4.2/8.8 MB 395.0 kB/s eta 0:00:12\n",
      "   ------------------- -------------------- 4.2/8.8 MB 396.1 kB/s eta 0:00:12\n",
      "   ------------------- -------------------- 4.2/8.8 MB 396.8 kB/s eta 0:00:12\n",
      "   ------------------- -------------------- 4.3/8.8 MB 398.0 kB/s eta 0:00:12\n",
      "   ------------------- -------------------- 4.3/8.8 MB 398.5 kB/s eta 0:00:12\n",
      "   ------------------- -------------------- 4.3/8.8 MB 399.6 kB/s eta 0:00:12\n",
      "   ------------------- -------------------- 4.4/8.8 MB 401.7 kB/s eta 0:00:12\n",
      "   -------------------- ------------------- 4.4/8.8 MB 402.8 kB/s eta 0:00:11\n",
      "   -------------------- ------------------- 4.4/8.8 MB 403.9 kB/s eta 0:00:11\n",
      "   -------------------- ------------------- 4.5/8.8 MB 404.9 kB/s eta 0:00:11\n",
      "   -------------------- ------------------- 4.5/8.8 MB 406.0 kB/s eta 0:00:11\n",
      "   -------------------- ------------------- 4.5/8.8 MB 408.6 kB/s eta 0:00:11\n",
      "   -------------------- ------------------- 4.6/8.8 MB 409.9 kB/s eta 0:00:11\n",
      "   -------------------- ------------------- 4.6/8.8 MB 411.9 kB/s eta 0:00:11\n",
      "   --------------------- ------------------ 4.6/8.8 MB 412.9 kB/s eta 0:00:11\n",
      "   --------------------- ------------------ 4.7/8.8 MB 414.5 kB/s eta 0:00:10\n",
      "   --------------------- ------------------ 4.7/8.8 MB 416.7 kB/s eta 0:00:10\n",
      "   --------------------- ------------------ 4.8/8.8 MB 418.3 kB/s eta 0:00:10\n",
      "   --------------------- ------------------ 4.8/8.8 MB 420.5 kB/s eta 0:00:10\n",
      "   ---------------------- ----------------- 4.8/8.8 MB 421.4 kB/s eta 0:00:10\n",
      "   ---------------------- ----------------- 4.9/8.8 MB 424.1 kB/s eta 0:00:10\n",
      "   ---------------------- ----------------- 4.9/8.8 MB 425.1 kB/s eta 0:00:10\n",
      "   ---------------------- ----------------- 5.0/8.8 MB 427.8 kB/s eta 0:00:09\n",
      "   ---------------------- ----------------- 5.0/8.8 MB 430.4 kB/s eta 0:00:09\n",
      "   ----------------------- ---------------- 5.1/8.8 MB 431.7 kB/s eta 0:00:09\n",
      "   ----------------------- ---------------- 5.1/8.8 MB 434.0 kB/s eta 0:00:09\n",
      "   ----------------------- ---------------- 5.2/8.8 MB 435.7 kB/s eta 0:00:09\n",
      "   ----------------------- ---------------- 5.2/8.8 MB 438.3 kB/s eta 0:00:09\n",
      "   ----------------------- ---------------- 5.2/8.8 MB 439.8 kB/s eta 0:00:09\n",
      "   ------------------------ --------------- 5.3/8.8 MB 442.6 kB/s eta 0:00:08\n",
      "   ------------------------ --------------- 5.3/8.8 MB 445.1 kB/s eta 0:00:08\n",
      "   ------------------------ --------------- 5.4/8.8 MB 447.7 kB/s eta 0:00:08\n",
      "   ------------------------ --------------- 5.4/8.8 MB 449.1 kB/s eta 0:00:08\n",
      "   ------------------------ --------------- 5.5/8.8 MB 451.5 kB/s eta 0:00:08\n",
      "   ------------------------- -------------- 5.5/8.8 MB 454.0 kB/s eta 0:00:08\n",
      "   ------------------------- -------------- 5.5/8.8 MB 454.0 kB/s eta 0:00:08\n",
      "   ------------------------- -------------- 5.5/8.8 MB 454.0 kB/s eta 0:00:08\n",
      "   ------------------------- -------------- 5.5/8.8 MB 454.0 kB/s eta 0:00:08\n",
      "   ------------------------- -------------- 5.5/8.8 MB 454.0 kB/s eta 0:00:08\n",
      "   ------------------------- -------------- 5.5/8.8 MB 454.0 kB/s eta 0:00:08\n",
      "   ------------------------- -------------- 5.5/8.8 MB 444.0 kB/s eta 0:00:08\n",
      "   ------------------------- -------------- 5.6/8.8 MB 447.6 kB/s eta 0:00:08\n",
      "   ------------------------- -------------- 5.6/8.8 MB 448.3 kB/s eta 0:00:08\n",
      "   ------------------------- -------------- 5.7/8.8 MB 449.6 kB/s eta 0:00:07\n",
      "   ------------------------- -------------- 5.7/8.8 MB 450.4 kB/s eta 0:00:07\n",
      "   -------------------------- ------------- 5.7/8.8 MB 451.7 kB/s eta 0:00:07\n",
      "   -------------------------- ------------- 5.8/8.8 MB 452.8 kB/s eta 0:00:07\n",
      "   -------------------------- ------------- 5.8/8.8 MB 454.2 kB/s eta 0:00:07\n",
      "   -------------------------- ------------- 5.8/8.8 MB 454.7 kB/s eta 0:00:07\n",
      "   -------------------------- ------------- 5.9/8.8 MB 455.5 kB/s eta 0:00:07\n",
      "   -------------------------- ------------- 5.9/8.8 MB 456.2 kB/s eta 0:00:07\n",
      "   -------------------------- ------------- 5.9/8.8 MB 457.2 kB/s eta 0:00:07\n",
      "   --------------------------- ------------ 6.0/8.8 MB 457.9 kB/s eta 0:00:07\n",
      "   --------------------------- ------------ 6.0/8.8 MB 458.6 kB/s eta 0:00:07\n",
      "   --------------------------- ------------ 6.0/8.8 MB 459.3 kB/s eta 0:00:07\n",
      "   --------------------------- ------------ 6.1/8.8 MB 460.3 kB/s eta 0:00:06\n",
      "   --------------------------- ------------ 6.1/8.8 MB 461.0 kB/s eta 0:00:06\n",
      "   --------------------------- ------------ 6.1/8.8 MB 461.7 kB/s eta 0:00:06\n",
      "   ---------------------------- ----------- 6.2/8.8 MB 463.4 kB/s eta 0:00:06\n",
      "   ---------------------------- ----------- 6.2/8.8 MB 464.1 kB/s eta 0:00:06\n",
      "   ---------------------------- ----------- 6.2/8.8 MB 464.7 kB/s eta 0:00:06\n",
      "   ---------------------------- ----------- 6.3/8.8 MB 466.1 kB/s eta 0:00:06\n",
      "   ---------------------------- ----------- 6.3/8.8 MB 467.0 kB/s eta 0:00:06\n",
      "   ---------------------------- ----------- 6.3/8.8 MB 468.2 kB/s eta 0:00:06\n",
      "   ---------------------------- ----------- 6.4/8.8 MB 468.9 kB/s eta 0:00:06\n",
      "   ----------------------------- ---------- 6.4/8.8 MB 470.5 kB/s eta 0:00:06\n",
      "   ----------------------------- ---------- 6.5/8.8 MB 471.6 kB/s eta 0:00:05\n",
      "   ----------------------------- ---------- 6.5/8.8 MB 473.5 kB/s eta 0:00:05\n",
      "   ----------------------------- ---------- 6.5/8.8 MB 473.8 kB/s eta 0:00:05\n",
      "   ----------------------------- ---------- 6.6/8.8 MB 474.8 kB/s eta 0:00:05\n",
      "   ----------------------------- ---------- 6.6/8.8 MB 474.9 kB/s eta 0:00:05\n",
      "   ------------------------------ --------- 6.6/8.8 MB 475.5 kB/s eta 0:00:05\n",
      "   ------------------------------ --------- 6.7/8.8 MB 476.8 kB/s eta 0:00:05\n",
      "   ------------------------------ --------- 6.7/8.8 MB 477.4 kB/s eta 0:00:05\n",
      "   ------------------------------ --------- 6.7/8.8 MB 478.0 kB/s eta 0:00:05\n",
      "   ------------------------------ --------- 6.7/8.8 MB 478.6 kB/s eta 0:00:05\n",
      "   ------------------------------ --------- 6.8/8.8 MB 479.2 kB/s eta 0:00:05\n",
      "   ------------------------------ --------- 6.8/8.8 MB 480.0 kB/s eta 0:00:05\n",
      "   ------------------------------- -------- 6.9/8.8 MB 481.1 kB/s eta 0:00:05\n",
      "   ------------------------------- -------- 6.9/8.8 MB 481.6 kB/s eta 0:00:04\n",
      "   ------------------------------- -------- 6.9/8.8 MB 482.2 kB/s eta 0:00:04\n",
      "   ------------------------------- -------- 6.9/8.8 MB 483.3 kB/s eta 0:00:04\n",
      "   ------------------------------- -------- 7.0/8.8 MB 484.6 kB/s eta 0:00:04\n",
      "   ------------------------------- -------- 7.0/8.8 MB 485.1 kB/s eta 0:00:04\n",
      "   -------------------------------- ------- 7.1/8.8 MB 486.6 kB/s eta 0:00:04\n",
      "   -------------------------------- ------- 7.1/8.8 MB 487.1 kB/s eta 0:00:04\n",
      "   -------------------------------- ------- 7.1/8.8 MB 489.1 kB/s eta 0:00:04\n",
      "   -------------------------------- ------- 7.2/8.8 MB 489.6 kB/s eta 0:00:04\n",
      "   -------------------------------- ------- 7.2/8.8 MB 490.1 kB/s eta 0:00:04\n",
      "   -------------------------------- ------- 7.3/8.8 MB 492.0 kB/s eta 0:00:04\n",
      "   --------------------------------- ------ 7.3/8.8 MB 493.1 kB/s eta 0:00:04\n",
      "   --------------------------------- ------ 7.3/8.8 MB 494.5 kB/s eta 0:00:03\n",
      "   --------------------------------- ------ 7.4/8.8 MB 496.3 kB/s eta 0:00:03\n",
      "   --------------------------------- ------ 7.4/8.8 MB 496.8 kB/s eta 0:00:03\n",
      "   --------------------------------- ------ 7.5/8.8 MB 498.7 kB/s eta 0:00:03\n",
      "   ---------------------------------- ----- 7.5/8.8 MB 499.9 kB/s eta 0:00:03\n",
      "   ---------------------------------- ----- 7.6/8.8 MB 501.7 kB/s eta 0:00:03\n",
      "   ---------------------------------- ----- 7.6/8.8 MB 502.9 kB/s eta 0:00:03\n",
      "   ---------------------------------- ----- 7.7/8.8 MB 504.7 kB/s eta 0:00:03\n",
      "   ----------------------------------- ---- 7.7/8.8 MB 506.5 kB/s eta 0:00:03\n",
      "   ----------------------------------- ---- 7.8/8.8 MB 508.3 kB/s eta 0:00:03\n",
      "   ----------------------------------- ---- 7.8/8.8 MB 509.6 kB/s eta 0:00:02\n",
      "   ----------------------------------- ---- 7.9/8.8 MB 511.2 kB/s eta 0:00:02\n",
      "   ----------------------------------- ---- 7.9/8.8 MB 513.0 kB/s eta 0:00:02\n",
      "   ------------------------------------ --- 8.0/8.8 MB 514.7 kB/s eta 0:00:02\n",
      "   ------------------------------------ --- 8.0/8.8 MB 516.5 kB/s eta 0:00:02\n",
      "   ------------------------------------ --- 8.1/8.8 MB 518.2 kB/s eta 0:00:02\n",
      "   ------------------------------------ --- 8.1/8.8 MB 519.3 kB/s eta 0:00:02\n",
      "   ------------------------------------- -- 8.2/8.8 MB 521.0 kB/s eta 0:00:02\n",
      "   ------------------------------------- -- 8.2/8.8 MB 522.1 kB/s eta 0:00:02\n",
      "   ------------------------------------- -- 8.2/8.8 MB 523.8 kB/s eta 0:00:02\n",
      "   ------------------------------------- -- 8.3/8.8 MB 525.4 kB/s eta 0:00:01\n",
      "   ------------------------------------- -- 8.3/8.8 MB 527.1 kB/s eta 0:00:01\n",
      "   -------------------------------------- - 8.4/8.8 MB 529.4 kB/s eta 0:00:01\n",
      "   -------------------------------------- - 8.5/8.8 MB 531.1 kB/s eta 0:00:01\n",
      "   -------------------------------------- - 8.5/8.8 MB 532.8 kB/s eta 0:00:01\n",
      "   -------------------------------------- - 8.6/8.8 MB 535.0 kB/s eta 0:00:01\n",
      "   ---------------------------------------  8.6/8.8 MB 536.0 kB/s eta 0:00:01\n",
      "   ---------------------------------------  8.7/8.8 MB 537.6 kB/s eta 0:00:01\n",
      "   ---------------------------------------  8.7/8.8 MB 540.5 kB/s eta 0:00:01\n",
      "   ---------------------------------------  8.8/8.8 MB 541.5 kB/s eta 0:00:01\n",
      "   ---------------------------------------- 8.8/8.8 MB 542.2 kB/s eta 0:00:00\n",
      "Downloading huggingface_hub-0.22.1-py3-none-any.whl (388 kB)\n",
      "   ---------------------------------------- 0.0/388.6 kB ? eta -:--:--\n",
      "   ---- ----------------------------------- 41.0/388.6 kB 1.9 MB/s eta 0:00:01\n",
      "   ----------- ---------------------------- 112.6/388.6 kB 1.6 MB/s eta 0:00:01\n",
      "   --------------- ------------------------ 153.6/388.6 kB 1.3 MB/s eta 0:00:01\n",
      "   --------------- ------------------------ 153.6/388.6 kB 1.3 MB/s eta 0:00:01\n",
      "   -------------------------- ------------- 256.0/388.6 kB 1.2 MB/s eta 0:00:01\n",
      "   ----------------------------- ---------- 286.7/388.6 kB 1.2 MB/s eta 0:00:01\n",
      "   ---------------------------------- ----- 337.9/388.6 kB 1.1 MB/s eta 0:00:01\n",
      "   -------------------------------------- - 378.9/388.6 kB 1.1 MB/s eta 0:00:01\n",
      "   ---------------------------------------- 388.6/388.6 kB 1.1 MB/s eta 0:00:00\n",
      "Downloading regex-2023.12.25-cp312-cp312-win_amd64.whl (268 kB)\n",
      "   ---------------------------------------- 0.0/268.9 kB ? eta -:--:--\n",
      "   ---------------------------------------- 0.0/268.9 kB ? eta -:--:--\n",
      "   --------- ------------------------------ 61.4/268.9 kB 3.4 MB/s eta 0:00:01\n",
      "   ------------ --------------------------- 81.9/268.9 kB 1.6 MB/s eta 0:00:01\n",
      "   --------------- ---------------------- 112.6/268.9 kB 939.4 kB/s eta 0:00:01\n",
      "   --------------- ---------------------- 112.6/268.9 kB 939.4 kB/s eta 0:00:01\n",
      "   ----------------------- -------------- 163.8/268.9 kB 756.6 kB/s eta 0:00:01\n",
      "   ------------------------ ------------- 174.1/268.9 kB 700.2 kB/s eta 0:00:01\n",
      "   --------------------------- ---------- 194.6/268.9 kB 655.9 kB/s eta 0:00:01\n",
      "   ---------------------------- --------- 204.8/268.9 kB 623.6 kB/s eta 0:00:01\n",
      "   ---------------------------- --------- 204.8/268.9 kB 623.6 kB/s eta 0:00:01\n",
      "   ---------------------------------- --- 245.8/268.9 kB 559.4 kB/s eta 0:00:01\n",
      "   -------------------------------------- 268.9/268.9 kB 552.8 kB/s eta 0:00:00\n",
      "Downloading safetensors-0.4.2-cp312-none-win_amd64.whl (270 kB)\n",
      "   ---------------------------------------- 0.0/270.7 kB ? eta -:--:--\n",
      "   ---------------------------------------- 0.0/270.7 kB ? eta -:--:--\n",
      "   - -------------------------------------- 10.2/270.7 kB ? eta -:--:--\n",
      "   - -------------------------------------- 10.2/270.7 kB ? eta -:--:--\n",
      "   ---- ---------------------------------- 30.7/270.7 kB 259.2 kB/s eta 0:00:01\n",
      "   ---- ---------------------------------- 30.7/270.7 kB 259.2 kB/s eta 0:00:01\n",
      "   ----- --------------------------------- 41.0/270.7 kB 178.6 kB/s eta 0:00:02\n",
      "   -------- ------------------------------ 61.4/270.7 kB 204.8 kB/s eta 0:00:02\n",
      "   -------- ------------------------------ 61.4/270.7 kB 204.8 kB/s eta 0:00:02\n",
      "   ---------- ---------------------------- 71.7/270.7 kB 178.6 kB/s eta 0:00:02\n",
      "   ---------- ---------------------------- 71.7/270.7 kB 178.6 kB/s eta 0:00:02\n",
      "   ------------- ------------------------- 92.2/270.7 kB 209.5 kB/s eta 0:00:01\n",
      "   --------------- ---------------------- 112.6/270.7 kB 218.3 kB/s eta 0:00:01\n",
      "   ----------------- -------------------- 122.9/270.7 kB 211.7 kB/s eta 0:00:01\n",
      "   ----------------- -------------------- 122.9/270.7 kB 211.7 kB/s eta 0:00:01\n",
      "   -------------------- ----------------- 143.4/270.7 kB 224.1 kB/s eta 0:00:01\n",
      "   --------------------- ---------------- 153.6/270.7 kB 223.7 kB/s eta 0:00:01\n",
      "   ------------------------ ------------- 174.1/270.7 kB 232.7 kB/s eta 0:00:01\n",
      "   --------------------------- ---------- 194.6/270.7 kB 240.6 kB/s eta 0:00:01\n",
      "   ---------------------------- --------- 204.8/270.7 kB 244.1 kB/s eta 0:00:01\n",
      "   ------------------------------- ------ 225.3/270.7 kB 254.8 kB/s eta 0:00:01\n",
      "   --------------------------------- ---- 235.5/270.7 kB 257.5 kB/s eta 0:00:01\n",
      "   -------------------------------------- 270.7/270.7 kB 273.0 kB/s eta 0:00:00\n",
      "Downloading tokenizers-0.15.2-cp312-none-win_amd64.whl (2.2 MB)\n",
      "   ---------------------------------------- 0.0/2.2 MB ? eta -:--:--\n",
      "   ---------------------------------------- 0.0/2.2 MB ? eta -:--:--\n",
      "    --------------------------------------- 0.0/2.2 MB 435.7 kB/s eta 0:00:05\n",
      "   - -------------------------------------- 0.1/2.2 MB 469.7 kB/s eta 0:00:05\n",
      "   - -------------------------------------- 0.1/2.2 MB 438.9 kB/s eta 0:00:05\n",
      "   -- ------------------------------------- 0.1/2.2 MB 504.4 kB/s eta 0:00:05\n",
      "   -- ------------------------------------- 0.1/2.2 MB 481.4 kB/s eta 0:00:05\n",
      "   -- ------------------------------------- 0.2/2.2 MB 482.7 kB/s eta 0:00:05\n",
      "   --- ------------------------------------ 0.2/2.2 MB 499.5 kB/s eta 0:00:05\n",
      "   --- ------------------------------------ 0.2/2.2 MB 498.9 kB/s eta 0:00:04\n",
      "   ---- ----------------------------------- 0.2/2.2 MB 515.5 kB/s eta 0:00:04\n",
      "   ---- ----------------------------------- 0.3/2.2 MB 525.1 kB/s eta 0:00:04\n",
      "   ----- ---------------------------------- 0.3/2.2 MB 536.9 kB/s eta 0:00:04\n",
      "   ----- ---------------------------------- 0.3/2.2 MB 546.6 kB/s eta 0:00:04\n",
      "   ------ --------------------------------- 0.4/2.2 MB 557.1 kB/s eta 0:00:04\n",
      "   ------- -------------------------------- 0.4/2.2 MB 563.8 kB/s eta 0:00:04\n",
      "   ------- -------------------------------- 0.4/2.2 MB 563.8 kB/s eta 0:00:04\n",
      "   -------- ------------------------------- 0.4/2.2 MB 573.4 kB/s eta 0:00:04\n",
      "   -------- ------------------------------- 0.5/2.2 MB 552.5 kB/s eta 0:00:04\n",
      "   -------- ------------------------------- 0.5/2.2 MB 548.4 kB/s eta 0:00:04\n",
      "   --------- ------------------------------ 0.5/2.2 MB 552.3 kB/s eta 0:00:04\n",
      "   --------- ------------------------------ 0.5/2.2 MB 548.0 kB/s eta 0:00:04\n",
      "   ---------- ----------------------------- 0.6/2.2 MB 551.5 kB/s eta 0:00:03\n",
      "   ---------- ----------------------------- 0.6/2.2 MB 547.7 kB/s eta 0:00:03\n",
      "   ---------- ----------------------------- 0.6/2.2 MB 547.7 kB/s eta 0:00:03\n",
      "   ----------- ---------------------------- 0.6/2.2 MB 544.8 kB/s eta 0:00:03\n",
      "   ----------- ---------------------------- 0.6/2.2 MB 544.8 kB/s eta 0:00:03\n",
      "   ----------- ---------------------------- 0.6/2.2 MB 544.8 kB/s eta 0:00:03\n",
      "   ----------- ---------------------------- 0.6/2.2 MB 544.8 kB/s eta 0:00:03\n",
      "   ----------- ---------------------------- 0.6/2.2 MB 544.8 kB/s eta 0:00:03\n",
      "   ----------- ---------------------------- 0.6/2.2 MB 544.8 kB/s eta 0:00:03\n",
      "   ----------- ---------------------------- 0.6/2.2 MB 544.8 kB/s eta 0:00:03\n",
      "   ----------- ---------------------------- 0.6/2.2 MB 544.8 kB/s eta 0:00:03\n",
      "   ----------- ---------------------------- 0.6/2.2 MB 412.3 kB/s eta 0:00:04\n",
      "   ----------- ---------------------------- 0.6/2.2 MB 406.5 kB/s eta 0:00:04\n",
      "   ------------ --------------------------- 0.7/2.2 MB 407.3 kB/s eta 0:00:04\n",
      "   ------------ --------------------------- 0.7/2.2 MB 407.3 kB/s eta 0:00:04\n",
      "   ------------ --------------------------- 0.7/2.2 MB 400.6 kB/s eta 0:00:04\n",
      "   ------------ --------------------------- 0.7/2.2 MB 400.6 kB/s eta 0:00:04\n",
      "   ------------ --------------------------- 0.7/2.2 MB 400.6 kB/s eta 0:00:04\n",
      "   ------------- -------------------------- 0.7/2.2 MB 386.5 kB/s eta 0:00:04\n",
      "   ------------- -------------------------- 0.7/2.2 MB 386.5 kB/s eta 0:00:04\n",
      "   ------------- -------------------------- 0.7/2.2 MB 376.1 kB/s eta 0:00:04\n",
      "   ------------- -------------------------- 0.7/2.2 MB 371.6 kB/s eta 0:00:04\n",
      "   ------------- -------------------------- 0.7/2.2 MB 371.6 kB/s eta 0:00:04\n",
      "   -------------- ------------------------- 0.8/2.2 MB 370.2 kB/s eta 0:00:04\n",
      "   -------------- ------------------------- 0.8/2.2 MB 364.2 kB/s eta 0:00:04\n",
      "   -------------- ------------------------- 0.8/2.2 MB 364.2 kB/s eta 0:00:04\n",
      "   -------------- ------------------------- 0.8/2.2 MB 363.0 kB/s eta 0:00:04\n",
      "   -------------- ------------------------- 0.8/2.2 MB 363.0 kB/s eta 0:00:04\n",
      "   -------------- ------------------------- 0.8/2.2 MB 363.0 kB/s eta 0:00:04\n",
      "   -------------- ------------------------- 0.8/2.2 MB 363.0 kB/s eta 0:00:04\n",
      "   -------------- ------------------------- 0.8/2.2 MB 363.0 kB/s eta 0:00:04\n",
      "   -------------- ------------------------- 0.8/2.2 MB 363.0 kB/s eta 0:00:04\n",
      "   -------------- ------------------------- 0.8/2.2 MB 363.0 kB/s eta 0:00:04\n",
      "   -------------- ------------------------- 0.8/2.2 MB 363.0 kB/s eta 0:00:04\n",
      "   -------------- ------------------------- 0.8/2.2 MB 311.8 kB/s eta 0:00:05\n",
      "   -------------- ------------------------- 0.8/2.2 MB 311.8 kB/s eta 0:00:05\n",
      "   --------------- ------------------------ 0.8/2.2 MB 306.6 kB/s eta 0:00:05\n",
      "   --------------- ------------------------ 0.8/2.2 MB 306.6 kB/s eta 0:00:05\n",
      "   --------------- ------------------------ 0.8/2.2 MB 306.6 kB/s eta 0:00:05\n",
      "   --------------- ------------------------ 0.8/2.2 MB 301.9 kB/s eta 0:00:05\n",
      "   --------------- ------------------------ 0.8/2.2 MB 301.9 kB/s eta 0:00:05\n",
      "   --------------- ------------------------ 0.9/2.2 MB 295.6 kB/s eta 0:00:05\n",
      "   ---------------- ----------------------- 0.9/2.2 MB 294.8 kB/s eta 0:00:05\n",
      "   ---------------- ----------------------- 0.9/2.2 MB 294.8 kB/s eta 0:00:05\n",
      "   ---------------- ----------------------- 0.9/2.2 MB 293.9 kB/s eta 0:00:05\n",
      "   ---------------- ----------------------- 0.9/2.2 MB 291.3 kB/s eta 0:00:05\n",
      "   ----------------- ---------------------- 0.9/2.2 MB 293.5 kB/s eta 0:00:05\n",
      "   ----------------- ---------------------- 0.9/2.2 MB 293.5 kB/s eta 0:00:05\n",
      "   ----------------- ---------------------- 1.0/2.2 MB 294.1 kB/s eta 0:00:05\n",
      "   ----------------- ---------------------- 1.0/2.2 MB 293.0 kB/s eta 0:00:05\n",
      "   ------------------ --------------------- 1.0/2.2 MB 295.1 kB/s eta 0:00:05\n",
      "   ------------------ --------------------- 1.0/2.2 MB 294.1 kB/s eta 0:00:05\n",
      "   ------------------ --------------------- 1.0/2.2 MB 296.0 kB/s eta 0:00:04\n",
      "   ------------------ --------------------- 1.0/2.2 MB 297.9 kB/s eta 0:00:04\n",
      "   ------------------- -------------------- 1.1/2.2 MB 300.1 kB/s eta 0:00:04\n",
      "   ------------------- -------------------- 1.1/2.2 MB 300.2 kB/s eta 0:00:04\n",
      "   -------------------- ------------------- 1.1/2.2 MB 302.1 kB/s eta 0:00:04\n",
      "   -------------------- ------------------- 1.1/2.2 MB 305.3 kB/s eta 0:00:04\n",
      "   --------------------- ------------------ 1.1/2.2 MB 308.3 kB/s eta 0:00:04\n",
      "   --------------------- ------------------ 1.2/2.2 MB 311.3 kB/s eta 0:00:04\n",
      "   --------------------- ------------------ 1.2/2.2 MB 314.2 kB/s eta 0:00:04\n",
      "   ---------------------- ----------------- 1.2/2.2 MB 317.1 kB/s eta 0:00:04\n",
      "   ----------------------- ---------------- 1.3/2.2 MB 321.2 kB/s eta 0:00:03\n",
      "   ----------------------- ---------------- 1.3/2.2 MB 325.1 kB/s eta 0:00:03\n",
      "   ------------------------ --------------- 1.3/2.2 MB 327.7 kB/s eta 0:00:03\n",
      "   ------------------------ --------------- 1.3/2.2 MB 331.6 kB/s eta 0:00:03\n",
      "   ------------------------- -------------- 1.4/2.2 MB 339.0 kB/s eta 0:00:03\n",
      "   -------------------------- ------------- 1.4/2.2 MB 342.6 kB/s eta 0:00:03\n",
      "   -------------------------- ------------- 1.5/2.2 MB 346.1 kB/s eta 0:00:03\n",
      "   --------------------------- ------------ 1.5/2.2 MB 352.0 kB/s eta 0:00:02\n",
      "   ---------------------------- ----------- 1.5/2.2 MB 359.0 kB/s eta 0:00:02\n",
      "   ---------------------------- ----------- 1.6/2.2 MB 363.3 kB/s eta 0:00:02\n",
      "   ----------------------------- ---------- 1.6/2.2 MB 371.2 kB/s eta 0:00:02\n",
      "   ------------------------------ --------- 1.7/2.2 MB 378.8 kB/s eta 0:00:02\n",
      "   ------------------------------- -------- 1.7/2.2 MB 386.3 kB/s eta 0:00:02\n",
      "   -------------------------------- ------- 1.8/2.2 MB 391.4 kB/s eta 0:00:02\n",
      "   --------------------------------- ------ 1.8/2.2 MB 400.0 kB/s eta 0:00:01\n",
      "   ---------------------------------- ----- 1.9/2.2 MB 408.0 kB/s eta 0:00:01\n",
      "   ----------------------------------- ---- 1.9/2.2 MB 416.2 kB/s eta 0:00:01\n",
      "   ------------------------------------ --- 2.0/2.2 MB 423.8 kB/s eta 0:00:01\n",
      "   ------------------------------------- -- 2.1/2.2 MB 434.8 kB/s eta 0:00:01\n",
      "   ---------------------------------------  2.1/2.2 MB 443.4 kB/s eta 0:00:01\n",
      "   ---------------------------------------- 2.2/2.2 MB 451.0 kB/s eta 0:00:00\n",
      "Downloading tqdm-4.66.2-py3-none-any.whl (78 kB)\n",
      "   ---------------------------------------- 0.0/78.3 kB ? eta -:--:--\n",
      "   ------------------------------- -------- 61.4/78.3 kB 1.7 MB/s eta 0:00:01\n",
      "   ---------------------------------------- 78.3/78.3 kB 1.4 MB/s eta 0:00:00\n",
      "Downloading fsspec-2024.3.1-py3-none-any.whl (171 kB)\n",
      "   ---------------------------------------- 0.0/172.0 kB ? eta -:--:--\n",
      "   -------------- ------------------------- 61.4/172.0 kB 1.7 MB/s eta 0:00:01\n",
      "   --------------------------------- ------ 143.4/172.0 kB 1.7 MB/s eta 0:00:01\n",
      "   ---------------------------------------- 172.0/172.0 kB 1.5 MB/s eta 0:00:00\n",
      "Installing collected packages: tqdm, safetensors, regex, fsspec, huggingface-hub, tokenizers, transformers\n",
      "  Attempting uninstall: fsspec\n",
      "    Found existing installation: fsspec 2023.4.0\n",
      "    Uninstalling fsspec-2023.4.0:\n",
      "      Successfully uninstalled fsspec-2023.4.0\n"
     ]
    }
   ],
   "source": [
    "!pip install transformers requests beautifulsoup4 pandas numpy"
   ]
  },
  {
   "cell_type": "code",
   "execution_count": 11,
   "id": "0c6d0763-f485-4f74-882f-1dc7c92c4df1",
   "metadata": {},
   "outputs": [
    {
     "ename": "ModuleNotFoundError",
     "evalue": "No module named 'transformers.utils'",
     "output_type": "error",
     "traceback": [
      "\u001b[1;31m---------------------------------------------------------------------------\u001b[0m",
      "\u001b[1;31mModuleNotFoundError\u001b[0m                       Traceback (most recent call last)",
      "Cell \u001b[1;32mIn[11], line 1\u001b[0m\n\u001b[1;32m----> 1\u001b[0m \u001b[38;5;28;01mfrom\u001b[39;00m \u001b[38;5;21;01mtransformers\u001b[39;00m \u001b[38;5;28;01mimport\u001b[39;00m AutoTokenizer, AutoModelForSequenceClassification\n\u001b[0;32m      2\u001b[0m \u001b[38;5;28;01mimport\u001b[39;00m \u001b[38;5;21;01mtorch\u001b[39;00m\n\u001b[0;32m      3\u001b[0m \u001b[38;5;28;01mimport\u001b[39;00m \u001b[38;5;21;01mrequests\u001b[39;00m\n",
      "File \u001b[1;32m~\\AppData\\Local\\Packages\\PythonSoftwareFoundation.Python.3.12_qbz5n2kfra8p0\\LocalCache\\local-packages\\Python312\\site-packages\\transformers\\__init__.py:26\u001b[0m\n\u001b[0;32m     23\u001b[0m \u001b[38;5;28;01mfrom\u001b[39;00m \u001b[38;5;21;01mtyping\u001b[39;00m \u001b[38;5;28;01mimport\u001b[39;00m TYPE_CHECKING\n\u001b[0;32m     25\u001b[0m \u001b[38;5;66;03m# Check the dependencies satisfy the minimal versions required.\u001b[39;00m\n\u001b[1;32m---> 26\u001b[0m \u001b[38;5;28;01mfrom\u001b[39;00m \u001b[38;5;21;01m.\u001b[39;00m \u001b[38;5;28;01mimport\u001b[39;00m dependency_versions_check\n\u001b[0;32m     27\u001b[0m \u001b[38;5;28;01mfrom\u001b[39;00m \u001b[38;5;21;01m.\u001b[39;00m\u001b[38;5;21;01mutils\u001b[39;00m \u001b[38;5;28;01mimport\u001b[39;00m (\n\u001b[0;32m     28\u001b[0m     OptionalDependencyNotAvailable,\n\u001b[0;32m     29\u001b[0m     _LazyModule,\n\u001b[1;32m   (...)\u001b[0m\n\u001b[0;32m     48\u001b[0m     logging,\n\u001b[0;32m     49\u001b[0m )\n\u001b[0;32m     52\u001b[0m logger \u001b[38;5;241m=\u001b[39m logging\u001b[38;5;241m.\u001b[39mget_logger(\u001b[38;5;18m__name__\u001b[39m)  \u001b[38;5;66;03m# pylint: disable=invalid-name\u001b[39;00m\n",
      "File \u001b[1;32m~\\AppData\\Local\\Packages\\PythonSoftwareFoundation.Python.3.12_qbz5n2kfra8p0\\LocalCache\\local-packages\\Python312\\site-packages\\transformers\\dependency_versions_check.py:16\u001b[0m\n\u001b[0;32m      1\u001b[0m \u001b[38;5;66;03m# Copyright 2020 The HuggingFace Team. All rights reserved.\u001b[39;00m\n\u001b[0;32m      2\u001b[0m \u001b[38;5;66;03m#\u001b[39;00m\n\u001b[0;32m      3\u001b[0m \u001b[38;5;66;03m# Licensed under the Apache License, Version 2.0 (the \"License\");\u001b[39;00m\n\u001b[1;32m   (...)\u001b[0m\n\u001b[0;32m     12\u001b[0m \u001b[38;5;66;03m# See the License for the specific language governing permissions and\u001b[39;00m\n\u001b[0;32m     13\u001b[0m \u001b[38;5;66;03m# limitations under the License.\u001b[39;00m\n\u001b[0;32m     15\u001b[0m \u001b[38;5;28;01mfrom\u001b[39;00m \u001b[38;5;21;01m.\u001b[39;00m\u001b[38;5;21;01mdependency_versions_table\u001b[39;00m \u001b[38;5;28;01mimport\u001b[39;00m deps\n\u001b[1;32m---> 16\u001b[0m \u001b[38;5;28;01mfrom\u001b[39;00m \u001b[38;5;21;01m.\u001b[39;00m\u001b[38;5;21;01mutils\u001b[39;00m\u001b[38;5;21;01m.\u001b[39;00m\u001b[38;5;21;01mversions\u001b[39;00m \u001b[38;5;28;01mimport\u001b[39;00m require_version, require_version_core\n\u001b[0;32m     19\u001b[0m \u001b[38;5;66;03m# define which module versions we always want to check at run time\u001b[39;00m\n\u001b[0;32m     20\u001b[0m \u001b[38;5;66;03m# (usually the ones defined in `install_requires` in setup.py)\u001b[39;00m\n\u001b[0;32m     21\u001b[0m \u001b[38;5;66;03m#\u001b[39;00m\n\u001b[0;32m     22\u001b[0m \u001b[38;5;66;03m# order specific notes:\u001b[39;00m\n\u001b[0;32m     23\u001b[0m \u001b[38;5;66;03m# - tqdm must be checked before tokenizers\u001b[39;00m\n\u001b[0;32m     25\u001b[0m pkgs_to_check_at_runtime \u001b[38;5;241m=\u001b[39m [\n\u001b[0;32m     26\u001b[0m     \u001b[38;5;124m\"\u001b[39m\u001b[38;5;124mpython\u001b[39m\u001b[38;5;124m\"\u001b[39m,\n\u001b[0;32m     27\u001b[0m     \u001b[38;5;124m\"\u001b[39m\u001b[38;5;124mtqdm\u001b[39m\u001b[38;5;124m\"\u001b[39m,\n\u001b[1;32m   (...)\u001b[0m\n\u001b[0;32m     37\u001b[0m     \u001b[38;5;124m\"\u001b[39m\u001b[38;5;124mpyyaml\u001b[39m\u001b[38;5;124m\"\u001b[39m,\n\u001b[0;32m     38\u001b[0m ]\n",
      "\u001b[1;31mModuleNotFoundError\u001b[0m: No module named 'transformers.utils'"
     ]
    }
   ],
   "source": [
    "from transformers import AutoTokenizer, AutoModelForSequenceClassification\n",
    "import torch\n",
    "import requests\n",
    "from bs4 import BeautifulSoup\n",
    "import re\n"
   ]
  },
  {
   "cell_type": "code",
   "execution_count": 1,
   "id": "df45c3cd-297c-4e67-9168-b40e35194ee9",
   "metadata": {},
   "outputs": [
    {
     "name": "stdout",
     "output_type": "stream",
     "text": [
      "Defaulting to user installation because normal site-packages is not writeable\n",
      "Collecting transformers\n",
      "  Using cached transformers-4.39.1-py3-none-any.whl.metadata (134 kB)\n",
      "Requirement already satisfied: filelock in c:\\users\\void001\\appdata\\local\\packages\\pythonsoftwarefoundation.python.3.12_qbz5n2kfra8p0\\localcache\\local-packages\\python312\\site-packages (from transformers) (3.9.0)\n",
      "Requirement already satisfied: huggingface-hub<1.0,>=0.19.3 in c:\\users\\void001\\appdata\\local\\packages\\pythonsoftwarefoundation.python.3.12_qbz5n2kfra8p0\\localcache\\local-packages\\python312\\site-packages (from transformers) (0.22.1)\n",
      "Requirement already satisfied: numpy>=1.17 in c:\\users\\void001\\appdata\\local\\packages\\pythonsoftwarefoundation.python.3.12_qbz5n2kfra8p0\\localcache\\local-packages\\python312\\site-packages (from transformers) (1.26.3)\n",
      "Requirement already satisfied: packaging>=20.0 in c:\\users\\void001\\appdata\\local\\packages\\pythonsoftwarefoundation.python.3.12_qbz5n2kfra8p0\\localcache\\local-packages\\python312\\site-packages (from transformers) (23.2)\n",
      "Requirement already satisfied: pyyaml>=5.1 in c:\\users\\void001\\appdata\\local\\packages\\pythonsoftwarefoundation.python.3.12_qbz5n2kfra8p0\\localcache\\local-packages\\python312\\site-packages (from transformers) (6.0.1)\n",
      "Requirement already satisfied: regex!=2019.12.17 in c:\\users\\void001\\appdata\\local\\packages\\pythonsoftwarefoundation.python.3.12_qbz5n2kfra8p0\\localcache\\local-packages\\python312\\site-packages (from transformers) (2023.12.25)\n",
      "Requirement already satisfied: requests in c:\\users\\void001\\appdata\\local\\packages\\pythonsoftwarefoundation.python.3.12_qbz5n2kfra8p0\\localcache\\local-packages\\python312\\site-packages (from transformers) (2.31.0)\n",
      "Requirement already satisfied: tokenizers<0.19,>=0.14 in c:\\users\\void001\\appdata\\local\\packages\\pythonsoftwarefoundation.python.3.12_qbz5n2kfra8p0\\localcache\\local-packages\\python312\\site-packages (from transformers) (0.15.2)\n",
      "Requirement already satisfied: safetensors>=0.4.1 in c:\\users\\void001\\appdata\\local\\packages\\pythonsoftwarefoundation.python.3.12_qbz5n2kfra8p0\\localcache\\local-packages\\python312\\site-packages (from transformers) (0.4.2)\n",
      "Requirement already satisfied: tqdm>=4.27 in c:\\users\\void001\\appdata\\local\\packages\\pythonsoftwarefoundation.python.3.12_qbz5n2kfra8p0\\localcache\\local-packages\\python312\\site-packages (from transformers) (4.66.2)\n",
      "Requirement already satisfied: fsspec>=2023.5.0 in c:\\users\\void001\\appdata\\local\\packages\\pythonsoftwarefoundation.python.3.12_qbz5n2kfra8p0\\localcache\\local-packages\\python312\\site-packages (from huggingface-hub<1.0,>=0.19.3->transformers) (2024.3.1)\n",
      "Requirement already satisfied: typing-extensions>=3.7.4.3 in c:\\users\\void001\\appdata\\local\\packages\\pythonsoftwarefoundation.python.3.12_qbz5n2kfra8p0\\localcache\\local-packages\\python312\\site-packages (from huggingface-hub<1.0,>=0.19.3->transformers) (4.8.0)\n",
      "Requirement already satisfied: colorama in c:\\users\\void001\\appdata\\local\\packages\\pythonsoftwarefoundation.python.3.12_qbz5n2kfra8p0\\localcache\\local-packages\\python312\\site-packages (from tqdm>=4.27->transformers) (0.4.6)\n",
      "Requirement already satisfied: charset-normalizer<4,>=2 in c:\\users\\void001\\appdata\\local\\packages\\pythonsoftwarefoundation.python.3.12_qbz5n2kfra8p0\\localcache\\local-packages\\python312\\site-packages (from requests->transformers) (3.3.2)\n",
      "Requirement already satisfied: idna<4,>=2.5 in c:\\users\\void001\\appdata\\local\\packages\\pythonsoftwarefoundation.python.3.12_qbz5n2kfra8p0\\localcache\\local-packages\\python312\\site-packages (from requests->transformers) (3.6)\n",
      "Requirement already satisfied: urllib3<3,>=1.21.1 in c:\\users\\void001\\appdata\\local\\packages\\pythonsoftwarefoundation.python.3.12_qbz5n2kfra8p0\\localcache\\local-packages\\python312\\site-packages (from requests->transformers) (2.2.1)\n",
      "Requirement already satisfied: certifi>=2017.4.17 in c:\\users\\void001\\appdata\\local\\packages\\pythonsoftwarefoundation.python.3.12_qbz5n2kfra8p0\\localcache\\local-packages\\python312\\site-packages (from requests->transformers) (2024.2.2)\n",
      "Using cached transformers-4.39.1-py3-none-any.whl (8.8 MB)\n",
      "Installing collected packages: transformers\n",
      "Successfully installed transformers-4.39.1\n"
     ]
    }
   ],
   "source": [
    "!pip install transformers\n"
   ]
  },
  {
   "cell_type": "code",
   "execution_count": 6,
   "id": "5a3e626f-bca5-4e3f-babf-7d9a41804ba2",
   "metadata": {},
   "outputs": [],
   "source": [
    "from transformers import AutoTokenizer, AutoModelForSequenceClassification\n",
    "import torch\n",
    "import requests\n",
    "from bs4 import BeautifulSoup\n",
    "import re\n"
   ]
  },
  {
   "cell_type": "code",
   "execution_count": 7,
   "id": "cee3cd5b-60e2-469a-a979-7d6187c945a9",
   "metadata": {},
   "outputs": [
    {
     "data": {
      "application/vnd.jupyter.widget-view+json": {
       "model_id": "2b8c3f0c56af4e649feaa38bce18c230",
       "version_major": 2,
       "version_minor": 0
      },
      "text/plain": [
       "tokenizer_config.json:   0%|          | 0.00/39.0 [00:00<?, ?B/s]"
      ]
     },
     "metadata": {},
     "output_type": "display_data"
    },
    {
     "name": "stderr",
     "output_type": "stream",
     "text": [
      "C:\\Users\\VOID001\\AppData\\Local\\Packages\\PythonSoftwareFoundation.Python.3.12_qbz5n2kfra8p0\\LocalCache\\local-packages\\Python312\\site-packages\\huggingface_hub\\file_download.py:148: UserWarning: `huggingface_hub` cache-system uses symlinks by default to efficiently store duplicated files but your machine does not support them in C:\\Users\\VOID001\\.cache\\huggingface\\hub\\models--nlptown--bert-base-multilingual-uncased-sentiment. Caching files will still work but in a degraded version that might require more space on your disk. This warning can be disabled by setting the `HF_HUB_DISABLE_SYMLINKS_WARNING` environment variable. For more details, see https://huggingface.co/docs/huggingface_hub/how-to-cache#limitations.\n",
      "To support symlinks on Windows, you either need to activate Developer Mode or to run Python as an administrator. In order to see activate developer mode, see this article: https://docs.microsoft.com/en-us/windows/apps/get-started/enable-your-device-for-development\n",
      "  warnings.warn(message)\n"
     ]
    },
    {
     "data": {
      "application/vnd.jupyter.widget-view+json": {
       "model_id": "105a359688f44765b1c9c79f72fffe8b",
       "version_major": 2,
       "version_minor": 0
      },
      "text/plain": [
       "config.json:   0%|          | 0.00/953 [00:00<?, ?B/s]"
      ]
     },
     "metadata": {},
     "output_type": "display_data"
    },
    {
     "data": {
      "application/vnd.jupyter.widget-view+json": {
       "model_id": "9673e9284ba8404899a12c142d0fcb48",
       "version_major": 2,
       "version_minor": 0
      },
      "text/plain": [
       "vocab.txt:   0%|          | 0.00/872k [00:00<?, ?B/s]"
      ]
     },
     "metadata": {},
     "output_type": "display_data"
    },
    {
     "data": {
      "application/vnd.jupyter.widget-view+json": {
       "model_id": "5a0f78ef818f46c39d087abdddf91da3",
       "version_major": 2,
       "version_minor": 0
      },
      "text/plain": [
       "special_tokens_map.json:   0%|          | 0.00/112 [00:00<?, ?B/s]"
      ]
     },
     "metadata": {},
     "output_type": "display_data"
    }
   ],
   "source": [
    "tokenizer = AutoTokenizer.from_pretrained('nlptown/bert-base-multilingual-uncased-sentiment')"
   ]
  },
  {
   "cell_type": "code",
   "execution_count": 8,
   "id": "5f2e5757-f034-4836-9bef-fc293d6b8e42",
   "metadata": {},
   "outputs": [
    {
     "data": {
      "application/vnd.jupyter.widget-view+json": {
       "model_id": "df5f3188a7314c5d8552ef695a8174ef",
       "version_major": 2,
       "version_minor": 0
      },
      "text/plain": [
       "pytorch_model.bin:   0%|          | 0.00/669M [00:00<?, ?B/s]"
      ]
     },
     "metadata": {},
     "output_type": "display_data"
    }
   ],
   "source": [
    "model = AutoModelForSequenceClassification.from_pretrained('nlptown/bert-base-multilingual-uncased-sentiment')"
   ]
  },
  {
   "cell_type": "code",
   "execution_count": 9,
   "id": "0b88fa6a-d92f-4766-a9b1-86a6d72a47e5",
   "metadata": {},
   "outputs": [],
   "source": [
    "tokens = tokenizer.encode('It was good but couldve been better. Great', return_tensors='pt')"
   ]
  },
  {
   "cell_type": "code",
   "execution_count": 10,
   "id": "a49cd4d4-6bbf-49ce-82ea-0a3af27861e0",
   "metadata": {},
   "outputs": [
    {
     "data": {
      "text/plain": [
       "tensor([[  101, 10197, 10140, 12050, 10502, 12296, 10598, 10662, 16197,   119,\n",
       "         11838,   102]])"
      ]
     },
     "execution_count": 10,
     "metadata": {},
     "output_type": "execute_result"
    }
   ],
   "source": [
    "tokens"
   ]
  },
  {
   "cell_type": "code",
   "execution_count": 11,
   "id": "34d7fb5d-bb7f-4c12-a6e8-c01de05350fd",
   "metadata": {},
   "outputs": [
    {
     "data": {
      "text/plain": [
       "'[CLS] it was good but couldve been better. great [SEP]'"
      ]
     },
     "execution_count": 11,
     "metadata": {},
     "output_type": "execute_result"
    }
   ],
   "source": [
    "tokenizer.decode(tokens[0])"
   ]
  },
  {
   "cell_type": "code",
   "execution_count": 12,
   "id": "daccc37b-d125-48c9-8100-41e320f223d7",
   "metadata": {},
   "outputs": [],
   "source": [
    "result = model(tokens)"
   ]
  },
  {
   "cell_type": "code",
   "execution_count": 13,
   "id": "87590cb2-9fbc-441a-88df-26af96e0633a",
   "metadata": {},
   "outputs": [
    {
     "data": {
      "text/plain": [
       "tensor([[-2.7768, -1.2353,  1.4419,  1.9804,  0.4584]],\n",
       "       grad_fn=<AddmmBackward0>)"
      ]
     },
     "execution_count": 13,
     "metadata": {},
     "output_type": "execute_result"
    }
   ],
   "source": [
    "result.logits"
   ]
  },
  {
   "cell_type": "code",
   "execution_count": 14,
   "id": "f0120341-9d3a-4bd4-9e38-52603bb25d6c",
   "metadata": {},
   "outputs": [
    {
     "data": {
      "text/plain": [
       "4"
      ]
     },
     "execution_count": 14,
     "metadata": {},
     "output_type": "execute_result"
    }
   ],
   "source": [
    "int (torch.argmax(result.logits))+1"
   ]
  },
  {
   "cell_type": "code",
   "execution_count": null,
   "id": "f56eb411-fde4-4311-b9b5-d3dbb3682a1d",
   "metadata": {},
   "outputs": [],
   "source": [
    "# 4. Collect Reviews"
   ]
  },
  {
   "cell_type": "code",
   "execution_count": null,
   "id": "319aba6f-1f4f-4949-bd01-44e6d1c470eb",
   "metadata": {},
   "outputs": [],
   "source": []
  }
 ],
 "metadata": {
  "kernelspec": {
   "display_name": "Python 3 (ipykernel)",
   "language": "python",
   "name": "python3"
  },
  "language_info": {
   "codemirror_mode": {
    "name": "ipython",
    "version": 3
   },
   "file_extension": ".py",
   "mimetype": "text/x-python",
   "name": "python",
   "nbconvert_exporter": "python",
   "pygments_lexer": "ipython3",
   "version": "3.12.2"
  }
 },
 "nbformat": 4,
 "nbformat_minor": 5
}
